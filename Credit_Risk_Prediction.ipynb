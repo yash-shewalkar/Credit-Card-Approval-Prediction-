{
 "cells": [
  {
   "cell_type": "markdown",
   "id": "40fe8b96-a87f-4b6e-93ee-882c0c53b96c",
   "metadata": {},
   "source": [
    "# Credit_Risk_Prediction"
   ]
  },
  {
   "cell_type": "code",
   "execution_count": null,
   "id": "4035c9fa-7d53-4ceb-aeae-9d5d095d8624",
   "metadata": {},
   "outputs": [],
   "source": []
  }
 ],
 "metadata": {
  "kernelspec": {
   "display_name": "Python 3 (ipykernel)",
   "language": "python",
   "name": "python3"
  },
  "language_info": {
   "codemirror_mode": {
    "name": "ipython",
    "version": 3
   },
   "file_extension": ".py",
   "mimetype": "text/x-python",
   "name": "python",
   "nbconvert_exporter": "python",
   "pygments_lexer": "ipython3",
   "version": "3.11.5"
  }
 },
 "nbformat": 4,
 "nbformat_minor": 5
}
